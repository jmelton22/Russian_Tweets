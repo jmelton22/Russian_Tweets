{
 "cells": [
  {
   "cell_type": "code",
   "execution_count": 1,
   "metadata": {},
   "outputs": [
    {
     "data": {
      "text/html": [
       "\n",
       "    <div class=\"bk-root\">\n",
       "        <a href=\"https://bokeh.pydata.org\" target=\"_blank\" class=\"bk-logo bk-logo-small bk-logo-notebook\"></a>\n",
       "        <span id=\"1001\">Loading BokehJS ...</span>\n",
       "    </div>"
      ]
     },
     "metadata": {},
     "output_type": "execute_result"
    },
    {
     "data": {},
     "metadata": {},
     "output_type": "display_data"
    }
   ],
   "source": [
    "import pandas as pd\n",
    "import matplotlib.colors as mc\n",
    "import seaborn as sns\n",
    "from bokeh.plotting import figure, output_notebook, show\n",
    "from bokeh.models import HoverTool, ColumnDataSource\n",
    "\n",
    "output_notebook()\n",
    "sns.set(style='whitegrid')\n",
    "tweets = pd.read_csv('../tweets/tweets_clean.csv',\n",
    "                     header=0,\n",
    "                     parse_dates=['date'])"
   ]
  },
  {
   "cell_type": "code",
   "execution_count": 2,
   "metadata": {},
   "outputs": [],
   "source": [
    "# Group into number of tweets per month\n",
    "monthly_tweets = tweets.groupby([tweets.date.dt.year, tweets.date.dt.month]).size().to_frame('counts')\n",
    "monthly_tweets.index.rename(['year', 'month'], inplace=True)\n",
    "\n",
    "# Collapse index back into a single date\n",
    "monthly_tweets.reset_index(inplace=True)\n",
    "monthly_tweets['date'] = pd.to_datetime(dict(year=monthly_tweets.year,\n",
    "                                             month=monthly_tweets.month,\n",
    "                                             day=[1] * len(monthly_tweets)))\n",
    "monthly_tweets.set_index(monthly_tweets['date'], inplace=True)\n",
    "monthly_tweets.drop(['year', 'month', 'date'], axis=1, inplace=True)"
   ]
  },
  {
   "cell_type": "code",
   "execution_count": 3,
   "metadata": {},
   "outputs": [],
   "source": [
    "def monthly_counts(tweets_df):\n",
    "    # Create color palette for tweet values\n",
    "    palette = sns.color_palette('YlOrRd', len(tweets_df))\n",
    "    # Assign a color to each value of tweets by rank\n",
    "    tweets_df['color'] = [mc.rgb2hex(palette[int(rank - 1)]) for rank in tweets_df.counts.rank()]\n",
    "\n",
    "    src = ColumnDataSource(data=dict(date=tweets_df.index.values,\n",
    "                                     counts=tweets_df.counts,\n",
    "                                     color=tweets_df.color))\n",
    "\n",
    "    # output_file('../visuals/monthly_tweets.html')\n",
    "    p = figure(width=950, height=600,\n",
    "               x_axis_type='datetime',\n",
    "               x_axis_label='Date',\n",
    "               y_axis_label='Number of tweets',\n",
    "               title='Tweets per month')\n",
    "\n",
    "    p.line(x='date',\n",
    "           y='counts',\n",
    "           line_width=4,\n",
    "           color='lightgray',\n",
    "           source=src)\n",
    "    p.circle(x='date',\n",
    "             y='counts',\n",
    "             fill_color='color',\n",
    "             size=15,\n",
    "             source=src)\n",
    "\n",
    "    hover = HoverTool(tooltips=[('Date', '@date{%B-%Y}'),\n",
    "                                ('Num tweets', '@counts')],\n",
    "                      formatters={'date': 'datetime'},\n",
    "                      mode='vline')\n",
    "    p.add_tools(hover)\n",
    "    p.xgrid.grid_line_color = None\n",
    "\n",
    "    return p"
   ]
  },
  {
   "cell_type": "code",
   "execution_count": 4,
   "metadata": {
    "scrolled": false
   },
   "outputs": [
    {
     "data": {
      "text/html": [
       "\n",
       "\n",
       "\n",
       "\n",
       "\n",
       "\n",
       "  <div class=\"bk-root\" id=\"6b4158d6-0c92-411b-b26d-fab08ced7fdd\"></div>\n"
      ]
     },
     "metadata": {},
     "output_type": "execute_result"
    },
    {
     "data": {},
     "metadata": {
      "application/vnd.bokehjs_exec.v0+json": {
       "id": "1004"
      }
     },
     "output_type": "display_data"
    }
   ],
   "source": [
    "monthly_plot = monthly_counts(monthly_tweets)\n",
    "show(monthly_plot)"
   ]
  },
  {
   "cell_type": "code",
   "execution_count": 5,
   "metadata": {},
   "outputs": [
    {
     "name": "stdout",
     "output_type": "stream",
     "text": [
      "Number of unique users: 453\n"
     ]
    }
   ],
   "source": [
    "import math\n",
    "from bokeh.models import Range1d\n",
    "\n",
    "# Group into user keys\n",
    "user_tweets = tweets.groupby('user_key').size().sort_values(ascending=False).to_frame('counts')\n",
    "print('Number of unique users:', len(user_tweets))"
   ]
  },
  {
   "cell_type": "code",
   "execution_count": 6,
   "metadata": {},
   "outputs": [],
   "source": [
    "def user_counts(tweets_df, num_users=15):\n",
    "    users_to_plot = tweets_df.iloc[:num_users, :]\n",
    "\n",
    "    palette = [mc.rgb2hex(col) for col in sns.color_palette('Blues_r', num_users)]\n",
    "\n",
    "    src = ColumnDataSource(data=dict(user=users_to_plot.index.values,\n",
    "                                     counts=users_to_plot.counts.values,\n",
    "                                     color=palette))\n",
    "\n",
    "    # output_file('../visuals/top_users.html')\n",
    "    p = figure(plot_width=950, plot_height=600,\n",
    "               x_range=users_to_plot.index.values,\n",
    "               y_range=Range1d(0, max(tweets_df.counts) + 500),\n",
    "               toolbar_location='above',\n",
    "               x_axis_label='User',\n",
    "               y_axis_label='Number of tweets',\n",
    "               title='Tweets per user')\n",
    "    p.vbar(x='user', top='counts',\n",
    "           width=0.5,\n",
    "           fill_color='color',\n",
    "           source=src)\n",
    "\n",
    "    hover = HoverTool(tooltips=[('User', '@user'),\n",
    "                                ('Num tweets', '@counts')])\n",
    "    p.add_tools(hover)\n",
    "    p.xgrid.grid_line_color = None\n",
    "    p.xaxis.major_label_orientation = math.pi / 4\n",
    "\n",
    "    return p"
   ]
  },
  {
   "cell_type": "code",
   "execution_count": 7,
   "metadata": {},
   "outputs": [
    {
     "data": {
      "text/html": [
       "\n",
       "\n",
       "\n",
       "\n",
       "\n",
       "\n",
       "  <div class=\"bk-root\" id=\"51514854-0509-400f-97cc-06263b538154\"></div>\n"
      ]
     },
     "metadata": {},
     "output_type": "execute_result"
    },
    {
     "data": {},
     "metadata": {
      "application/vnd.bokehjs_exec.v0+json": {
       "id": "1194"
      }
     },
     "output_type": "display_data"
    }
   ],
   "source": [
    "user_plot = user_counts(user_tweets)\n",
    "show(user_plot)"
   ]
  },
  {
   "cell_type": "code",
   "execution_count": 8,
   "metadata": {},
   "outputs": [
    {
     "name": "stdout",
     "output_type": "stream",
     "text": [
      "Number of unique hashtags: 12935\n"
     ]
    }
   ],
   "source": [
    "from collections import Counter\n",
    "import ast\n",
    "\n",
    "tweets = pd.read_csv('../tweets/tweets.csv', header=0)\n",
    "\n",
    "# Get a list of all hashtags from pandas column containing a list of hashtags per tweet\n",
    "hashtags = [tag for tag_list in tweets.hashtags for tag in ast.literal_eval(tag_list) if tag != 'MerkelMussBleiben']\n",
    "\n",
    "# Create df containing the counts of each hashtag\n",
    "hashtag_df = pd.DataFrame.from_dict(Counter(hashtags),\n",
    "                                    orient='index',\n",
    "                                    columns=['counts']).sort_values(by='counts', ascending=False)\n",
    "print('Number of unique hashtags:', len(set(hashtags)))"
   ]
  },
  {
   "cell_type": "code",
   "execution_count": 9,
   "metadata": {},
   "outputs": [],
   "source": [
    "def hashtag_counts(tweets_df, num_hashtags=15):\n",
    "    hashtags_to_plot = tweets_df.iloc[:num_hashtags, :]\n",
    "\n",
    "    palette = [mc.rgb2hex(col) for col in sns.color_palette('Purples_r', num_hashtags)]\n",
    "\n",
    "    src = ColumnDataSource(data=dict(hashtag=hashtags_to_plot.index.values,\n",
    "                                     counts=hashtags_to_plot.counts.values,\n",
    "                                     color=palette))\n",
    "\n",
    "    p = figure(plot_width=950, plot_height=600,\n",
    "               x_range=hashtags_to_plot.index.values,\n",
    "               y_range=Range1d(0, max(tweets_df.counts) + 500),\n",
    "               toolbar_location='above',\n",
    "               x_axis_label='Hashtag',\n",
    "               y_axis_label='Number of tweets',\n",
    "               title='Tweets per hashtag')\n",
    "    p.vbar(x='hashtag', top='counts',\n",
    "           width=0.5,\n",
    "           fill_color='color',\n",
    "           source=src)\n",
    "\n",
    "    hover = HoverTool(tooltips=[('Hashtag', '@hashtag'),\n",
    "                                ('Num tweets', '@counts')])\n",
    "    p.add_tools(hover)\n",
    "    p.xgrid.grid_line_color = None\n",
    "    p.xaxis.major_label_orientation = math.pi / 4\n",
    "\n",
    "    return p"
   ]
  },
  {
   "cell_type": "code",
   "execution_count": 10,
   "metadata": {},
   "outputs": [
    {
     "data": {
      "text/html": [
       "\n",
       "\n",
       "\n",
       "\n",
       "\n",
       "\n",
       "  <div class=\"bk-root\" id=\"c3d1ef4f-cf9b-4848-bb0a-c46b90c1411a\"></div>\n"
      ]
     },
     "metadata": {},
     "output_type": "execute_result"
    },
    {
     "data": {},
     "metadata": {
      "application/vnd.bokehjs_exec.v0+json": {
       "id": "1313"
      }
     },
     "output_type": "display_data"
    }
   ],
   "source": [
    "fig = hashtag_counts(hashtag_df)\n",
    "show(fig)"
   ]
  },
  {
   "cell_type": "code",
   "execution_count": null,
   "metadata": {},
   "outputs": [],
   "source": []
  }
 ],
 "metadata": {
  "kernelspec": {
   "display_name": "Python 3",
   "language": "python",
   "name": "python3"
  },
  "language_info": {
   "codemirror_mode": {
    "name": "ipython",
    "version": 3
   },
   "file_extension": ".py",
   "mimetype": "text/x-python",
   "name": "python",
   "nbconvert_exporter": "python",
   "pygments_lexer": "ipython3",
   "version": "3.6.0"
  }
 },
 "nbformat": 4,
 "nbformat_minor": 1
}
