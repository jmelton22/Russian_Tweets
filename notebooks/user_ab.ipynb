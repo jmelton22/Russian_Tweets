{
 "cells": [
  {
   "cell_type": "code",
   "execution_count": 2,
   "metadata": {},
   "outputs": [
    {
     "data": {
      "text/html": [
       "\n",
       "    <div class=\"bk-root\">\n",
       "        <a href=\"https://bokeh.pydata.org\" target=\"_blank\" class=\"bk-logo bk-logo-small bk-logo-notebook\"></a>\n",
       "        <span id=\"1002\">Loading BokehJS ...</span>\n",
       "    </div>"
      ]
     },
     "metadata": {},
     "output_type": "execute_result"
    },
    {
     "data": {},
     "metadata": {},
     "output_type": "display_data"
    }
   ],
   "source": [
    "import pandas as pd\n",
    "\n",
    "import seaborn as sns\n",
    "\n",
    "import matplotlib.pyplot as plt\n",
    "import matplotlib.colors as mc\n",
    "\n",
    "from bokeh.plotting import figure, output_notebook, show\n",
    "from bokeh.models import HoverTool, ColumnDataSource, Range1d\n",
    "\n",
    "%matplotlib inline\n",
    "output_notebook()\n",
    "\n",
    "tweets = pd.read_csv('../tweets/tweets_clean.csv',\n",
    "                     header=0,\n",
    "                     parse_dates=['date'])\n",
    "tweets.dropna(subset=['lemmas'], inplace=True)\n",
    "tweets.reset_index(drop=True, inplace=True)"
   ]
  },
  {
   "cell_type": "code",
   "execution_count": 3,
   "metadata": {},
   "outputs": [],
   "source": [
    "topics = pd.read_csv('../results_csv/topics_per_doc_LDA.csv', header=0, index_col=0)\n",
    "topics.reset_index(drop=True, inplace=True)\n",
    "topics.rename(columns={'dominant_topic': 'topic'}, inplace=True)\n",
    "\n",
    "sentiments = pd.read_csv('../results_csv/tweet_sentiments.csv', header=0)"
   ]
  },
  {
   "cell_type": "code",
   "execution_count": 14,
   "metadata": {
    "scrolled": true
   },
   "outputs": [],
   "source": [
    "data = pd.concat([tweets, topics['topic'], sentiments['polarity']], axis=1)\n",
    "data.set_index(tweets['date'], inplace=True)\n",
    "\n",
    "user_tweets = data[data['user_key'] == 'ameliebaldwin']"
   ]
  },
  {
   "cell_type": "code",
   "execution_count": 15,
   "metadata": {},
   "outputs": [],
   "source": [
    "user_subset = user_tweets.loc['2016-07-01':]\n",
    "daily_user = user_subset.groupby(user_subset.index.date).size().to_frame('counts')\n",
    "\n",
    "\n",
    "def daily_counts(tweets_df):\n",
    "    # Create color palette for tweet values\n",
    "    palette = sns.color_palette('YlOrRd', len(tweets_df))\n",
    "    # Assign a color to each value of tweets by rank\n",
    "    tweets_df['color'] = [mc.rgb2hex(palette[int(rank - 1)]) for rank in tweets_df.counts.rank()]\n",
    "\n",
    "    src = ColumnDataSource(data=dict(date=tweets_df.index.values,\n",
    "                                     counts=tweets_df.counts,\n",
    "                                     color=tweets_df.color))\n",
    "\n",
    "    p = figure(width=950, height=600,\n",
    "               x_axis_type='datetime',\n",
    "               x_axis_label='Date',\n",
    "               y_axis_label='Number of tweets',\n",
    "               title='Tweets per day')\n",
    "\n",
    "    p.line(x='date',\n",
    "           y='counts',\n",
    "           line_width=4,\n",
    "           color='lightgray',\n",
    "           source=src)\n",
    "    p.circle(x='date',\n",
    "             y='counts',\n",
    "             fill_color='color',\n",
    "             size=12,\n",
    "             source=src)\n",
    "\n",
    "    hover = HoverTool(tooltips=[('Date', '@date{%m-%d-%Y}'),\n",
    "                                ('Num tweets', '@counts')],\n",
    "                      formatters={'date': 'datetime'},\n",
    "                      mode='mouse')\n",
    "    p.add_tools(hover)\n",
    "    p.xgrid.grid_line_color = None\n",
    "\n",
    "    return p\n"
   ]
  },
  {
   "cell_type": "code",
   "execution_count": 16,
   "metadata": {},
   "outputs": [
    {
     "data": {
      "text/html": [
       "\n",
       "\n",
       "\n",
       "\n",
       "\n",
       "\n",
       "  <div class=\"bk-root\" id=\"4cf9f5e6-05a7-4f1b-a44c-2d4ed8d3ac4d\"></div>\n"
      ]
     },
     "metadata": {},
     "output_type": "execute_result"
    },
    {
     "data": {},
     "metadata": {
      "application/vnd.bokehjs_exec.v0+json": {
       "id": "1403"
      }
     },
     "output_type": "display_data"
    }
   ],
   "source": [
    "daily_plot = daily_counts(daily_user)\n",
    "show(daily_plot)"
   ]
  },
  {
   "cell_type": "code",
   "execution_count": 28,
   "metadata": {},
   "outputs": [
    {
     "name": "stdout",
     "output_type": "stream",
     "text": [
      "Index(['counts'], dtype='object')\n"
     ]
    },
    {
     "data": {
      "image/png": "[encoded data removed]",
      "text/plain": [
       "<Figure size 1152x576 with 1 Axes>"
      ]
     },
     "metadata": {
      "needs_background": "light"
     },
     "output_type": "display_data"
    }
   ],
   "source": [
    "user_topics = user_tweets.groupby(user_tweets.topic).size().to_frame('counts')\n",
    "fig = user_topics.unstack().plot(kind='bar',\n",
    "                                 figsize=(16, 8),\n",
    "                                 color=['#E53935', '#0288D1', '#8E24AA', '#00796B', '#689F38',\n",
    "                                        '#D81B60', '#5E35B1', '#AFB42B', '#FBC02D', '#90A4AE',\n",
    "                                        '#F57C00', '#1976D2', '#3949AB', '#0097A7', '#8D6E63'],\n",
    "                                 title='Number of Tweets per Topic by User ameliebaldwin')\n",
    "fig.set_xlabel('Topic')\n",
    "fig.set_ylabel('Numbe of tweets')\n",
    "\n",
    "print(user_topics.columns)\n",
    "plt.show()"
   ]
  }
 ],
 "metadata": {
  "kernelspec": {
   "display_name": "Python 3",
   "language": "python",
   "name": "python3"
  },
  "language_info": {
   "codemirror_mode": {
    "name": "ipython",
    "version": 3
   },
   "file_extension": ".py",
   "mimetype": "text/x-python",
   "name": "python",
   "nbconvert_exporter": "python",
   "pygments_lexer": "ipython3",
   "version": "3.6.0"
  }
 },
 "nbformat": 4,
 "nbformat_minor": 1
}
